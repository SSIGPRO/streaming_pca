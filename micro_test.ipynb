{
 "cells": [
  {
   "cell_type": "markdown",
   "metadata": {},
   "source": [
    "## PCA Streaming on microcontroller\n",
    "This notebook communicates through UART to a MCU to assess the performance of PCA streaming methods"
   ]
  },
  {
   "cell_type": "code",
   "execution_count": 1,
   "metadata": {},
   "outputs": [],
   "source": [
    "import numpy as np\n",
    "from scipy import linalg\n",
    "import pandas as pd\n",
    "import micro_pylib.metrics as mt\n",
    "import micro_pylib.stream as stream\n",
    "import os\n",
    "import time\n",
    "import matplotlib.pyplot as plt"
   ]
  },
  {
   "cell_type": "markdown",
   "metadata": {},
   "source": [
    "### Test setup and parameters\n",
    "Use this section to select the parameters for the test\n",
    "- baud_rate: UART baud rate in bit/s\n",
    "- serial_port: string containing the name of the serial port (e.g., \"COM5\")\n",
    "- minor: True when searching for the minor subspace, False when searching for the principal\n",
    "- method: the method to be used among\n",
    "    - Oja\n",
    "    - Krasulina\n",
    "    - ISVD\n",
    "    - PAST\n",
    "    - GROUSE\n",
    "    - OjaMinor\n",
    "    - KrasulinaMinor\n",
    "    - HFRANS\n",
    "- rho: noise level\n",
    "- steps: number of total updates"
   ]
  },
  {
   "cell_type": "code",
   "execution_count": 2,
   "metadata": {},
   "outputs": [],
   "source": [
    "# ~ MPU serial ~\n",
    "\n",
    "baud_rate   = 4000000\n",
    "serial_port = \"COM5\"\n",
    "\n",
    "\n",
    "# ~ Method setup ~\n",
    "\n",
    "minor = False\n",
    "method = \"PAST\"\n",
    "rho = 1e-3\n",
    "steps = 1000"
   ]
  },
  {
   "cell_type": "markdown",
   "metadata": {},
   "source": [
    "### Initialization"
   ]
  },
  {
   "cell_type": "code",
   "execution_count": 3,
   "metadata": {},
   "outputs": [
    {
     "name": "stdout",
     "output_type": "stream",
     "text": [
      "Opening serial port to micro...\n",
      "> Requesting PAST (id = 3) to micro.\n",
      "> Requesting 1000 iterations to micro.\n",
      "> Received n = 100, k = 10, m = 10 from micro.\n",
      "> Generating and saving matrix Phi\n",
      "> Generating and saving matrix Uinit\n",
      "> Generating and saving batch of signals\n",
      "> Sending Uinit to micro\n"
     ]
    }
   ],
   "source": [
    "# *** GENERIC SETUP ************************************************************\n",
    "\n",
    "# ~ Numpy print options ~\n",
    "\n",
    "np.set_printoptions(\n",
    "    edgeitems=3,\n",
    "    linewidth=200,\n",
    "    precision=3,\n",
    "    )\n",
    "    \n",
    "    \n",
    "# ~ Generate output folders ~\n",
    "\n",
    "os.makedirs(\"data\", exist_ok=True)\n",
    "os.makedirs(\"results\", exist_ok=True)\n",
    "\n",
    "\n",
    "# ~ Open a stream to the micro ~\n",
    "\n",
    "micro = stream.Stream(\n",
    "    serial_port,\n",
    "    baud_rate=baud_rate,\n",
    "    timeout=5,\n",
    "    )\n",
    "\n",
    "\n",
    "# *** METHODS SELECTION ********************************************************\n",
    "\n",
    "# ~ Methods dictionaries ~\n",
    "\n",
    "methods_dict = {\n",
    "    \"Oja\":            0,\n",
    "    \"Krasulina\":      1,\n",
    "    \"ISVD\":           2,\n",
    "    \"PAST\":           3,\n",
    "    \"GROUSE\":         4,\n",
    "    }\n",
    "methods_minor_dict = {\n",
    "    \"OjaMinor\":       5,\n",
    "    \"KrasulinaMinor\": 6,\n",
    "    \"HFRANS\":         7,\n",
    "    }\n",
    "    \n",
    "    \n",
    "# ~ Check for the existence of the requested method and select method_id ~\n",
    "    \n",
    "if not minor:\n",
    "    if method not in methods_dict:\n",
    "        print(f\"> (!) Method '{method}' is not a valid \"+\n",
    "               \"principal subspace identification method. Quitting...\")\n",
    "        exit()\n",
    "    else:\n",
    "        method_id = methods_dict.get(method, -1)\n",
    "else:\n",
    "    if method not in methods_minor_dict:\n",
    "        raise(f\"> (!) Method '{method}' is not a valid \"+\n",
    "               \"minor subspace identification method. Quitting...\")\n",
    "        exit()\n",
    "    else:\n",
    "        method_id = methods_minor_dict.get(method, -1)\n",
    "    \n",
    "\n",
    "# *** Test Loop Initialization *************************************************\n",
    "\n",
    "# ~ Request method to micro ~\n",
    "\n",
    "print(f\"> Requesting {method} (id = {method_id}) to micro.\")\n",
    "micro.write_value(method_id)\n",
    "\n",
    "    \n",
    "# ~ Send to micro the number of steps ~\n",
    "\n",
    "print(f\"> Requesting {steps} iterations to micro.\")\n",
    "micro.write_value(steps)\n",
    "\n",
    "            \n",
    "# ~ Ask to micro matrix size and input matrix ~\n",
    "\n",
    "n = micro.read_value()\n",
    "k = micro.read_value()\n",
    "m = n-k if minor else k\n",
    "print(f\"> Received n = {n}, k = {k}, m = {m} \" +\n",
    "       \"(minor) \"*minor + \"from micro.\")\n",
    "\n",
    "\n",
    "# ~ Load or generate matrix Phi ~\n",
    "\n",
    "filename = os.path.join(\"data\", f\"Phi{n}x{m}.npy\")\n",
    "if os.path.isfile(filename):\n",
    "    print(\"> Loading matrix Phi\")\n",
    "    Phi = np.load(filename)\n",
    "else:\n",
    "    print(\"> Generating and saving matrix Phi\")\n",
    "    Phi = np.linalg.qr(np.random.randn(n, m))[0]\n",
    "    np.save(filename, Phi)\n",
    "\n",
    "    \n",
    "# ~ Evaluate target matrix\n",
    "\n",
    "U = linalg.null_space(Phi.T) if minor else Phi\n",
    "      \n",
    "      \n",
    "# ~ Load or generate initialization matrix Uinit ~\n",
    "\n",
    "filename = os.path.join(\"data\", f\"Uinit{n}x{k}.npy\")\n",
    "if os.path.isfile(filename):\n",
    "    print(\"> Loading matrix Uinit\")\n",
    "    Uinit = np.load(filename)\n",
    "else:\n",
    "    print(\"> Generating and saving matrix Uinit\")\n",
    "    Uinit = np.linalg.qr(np.random.randn(n, k))[0]\n",
    "    np.save(filename, Uinit)\n",
    "    \n",
    "    \n",
    "# ~ Load or generate input batch xbatch ~\n",
    "\n",
    "filename = os.path.join(\"data\", f\"xbatch{steps}Phi{n}x{m}rho{rho:.1e}.npy\")\n",
    "if os.path.isfile(filename):\n",
    "    print(\"> Loading batch of signals\")\n",
    "    xbatch = np.load(filename)\n",
    "else:\n",
    "    print(\"> Generating and saving batch of signals\")\n",
    "    sig = np.random.randn(m, steps)\n",
    "    nu = rho*np.random.randn(steps, n)\n",
    "    xbatch = (Phi@sig).T+nu\n",
    "    np.save(filename, xbatch)\n",
    "\n",
    "# ~ Send Uinit to micro ~\n",
    "\n",
    "print(\"> Sending Uinit to micro\")\n",
    "if method == \"ISVD\":\n",
    "    micro.write_matrix(Uinit.T)\n",
    "else:\n",
    "    micro.write_matrix(Uinit)\n",
    "                \n",
    "# ~ Initialize results dataframe ~\n",
    "pca_results = pd.DataFrame()"
   ]
  },
  {
   "cell_type": "markdown",
   "metadata": {},
   "source": [
    "### Test Loop"
   ]
  },
  {
   "cell_type": "code",
   "execution_count": 4,
   "metadata": {},
   "outputs": [
    {
     "name": "stdout",
     "output_type": "stream",
     "text": [
      "\n",
      "*** TESTING PAST METHOD with n = 100, m = 10, k = 10 ***\n",
      "> Step 1000/1000 > Error on subspace = 2.184e-03, orthonormality error = 1.534e-06\n",
      "> Saving results to file\n",
      "> All jobs done.\n",
      "Closing serial port to micro...\n"
     ]
    }
   ],
   "source": [
    "print(f\"\\n*** TESTING {method} METHOD with n = {n}, m = {m}, k = {k} ***\") \n",
    "\n",
    "for it in range(1, steps+1):\n",
    "    \n",
    "    # ~ Send input vector to micro ~\n",
    "    micro.write_vector(xbatch[it-1])\n",
    "\n",
    "    # ~ Receive estimated matrix Ut ~\n",
    "    if method == \"ISVD\":\n",
    "        Ut = micro.read_matrix(k, n).T\n",
    "    else:\n",
    "        Ut = micro.read_matrix(n, k)\n",
    "\n",
    "    # *** Print error on subspace ***  \n",
    "    error_u = np.linalg.norm(U-Ut@Ut.T@U)\n",
    "    error_orth = np.linalg.norm(np.eye(k)-Ut.T@Ut)\n",
    "    print(f\"> Step {it}/{steps} > \" +\n",
    "          f\"Error on subspace = {error_u:8.3e}, \" + \n",
    "          f\"orthonormality error = {error_orth:8.3e}\", end = \"\\r\", flush=True)\n",
    "    \n",
    "    # *** Store results\n",
    "    res = {\n",
    "        \"error_u\": error_u,\n",
    "        \"error_orth\": error_orth,\n",
    "        }\n",
    "    pca_results = pca_results.append(res, ignore_index=True)\n",
    "    \n",
    "print(end = \"\\n\")\n",
    "\n",
    "# *** SAVE RESULTS TO FILE *****************************************************\n",
    "\n",
    "print(\"> Saving results to file\")\n",
    "filename = os.path.join(\n",
    "    \"results\", \"{}_U{}x{}_rho{:.1e}_steps{}.csv\".format(\n",
    "        method,\n",
    "        n,\n",
    "        k,\n",
    "        rho,\n",
    "        steps,\n",
    "        )\n",
    "    )\n",
    "pca_results.to_csv(filename, index=False)\n",
    "        \n",
    "print(\"> All jobs done.\")\n",
    "\n",
    "micro.close()"
   ]
  },
  {
   "cell_type": "markdown",
   "metadata": {},
   "source": [
    "### Print result"
   ]
  },
  {
   "cell_type": "code",
   "execution_count": 5,
   "metadata": {},
   "outputs": [
    {
     "name": "stdout",
     "output_type": "stream",
     "text": [
      "\n"
     ]
    },
    {
     "data": {
      "image/png": "[encoded data removed]",
      "text/plain": [
       "<Figure size 576x720 with 2 Axes>"
      ]
     },
     "metadata": {
      "needs_background": "light"
     },
     "output_type": "display_data"
    }
   ],
   "source": [
    "fig, axs = plt.subplots(2, 1, figsize = (8, 10), sharex = True)\n",
    "\n",
    "axs[0].plot(pca_results[\"error_u\"])\n",
    "axs[0].set_xscale(\"log\")\n",
    "axs[0].set_yscale(\"log\")\n",
    "axs[0].grid(which=\"major\")\n",
    "axs[0].grid(which=\"minor\", linewidth = 0.1)\n",
    "axs[0].set_title(f\"{method} $U_t$ vs $U$ error\")\n",
    "axs[0].set_xlabel(\"step\")\n",
    "axs[0].set_ylabel(\"$e_t$\")\n",
    "\n",
    "axs[1].plot(pca_results[\"error_orth\"])\n",
    "axs[1].set_xscale(\"log\")\n",
    "axs[1].set_yscale(\"log\")\n",
    "axs[1].grid(which=\"major\")\n",
    "axs[1].grid(which=\"minor\", linewidth = 0.1)\n",
    "axs[1].set_title(f\"{method} $U_t$ orthonormality error\")\n",
    "axs[1].set_xlabel(\"step\")\n",
    "axs[1].set_ylabel(\"$e_t$\")\n",
    "\n",
    "print()"
   ]
  }
 ],
 "metadata": {
  "kernelspec": {
   "display_name": "Python 3",
   "language": "python",
   "name": "python3"
  },
  "language_info": {
   "codemirror_mode": {
    "name": "ipython",
    "version": 3
   },
   "file_extension": ".py",
   "mimetype": "text/x-python",
   "name": "python",
   "nbconvert_exporter": "python",
   "pygments_lexer": "ipython3",
   "version": "3.8.5"
  }
 },
 "nbformat": 4,
 "nbformat_minor": 4
}
